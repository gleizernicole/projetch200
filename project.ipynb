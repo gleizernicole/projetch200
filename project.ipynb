# %% [markdown]
# ## Welcome to InteractivePT : Enhance your knowledge on the Periodic Table

# %% [markdown]
# Invented by Mendeleev in 1871, the periodic table is an indispensable tool for any person who wishes to adventure itself along the arduous path of becoming a chemist. Indeed, this tabular array of the chemical elements contained in the universe is organized by increasing atomic number and has been of inestimable value in the development of chemistry.
# Unsurprisingly, during the chemistry curriculem, students are expected to memorise certain elements of the periodic table which is a tedious and unforgivenly timely task.
# 
# However rest assured, with InteractivePT, you shall memorise Mendeleev's table in no time !
# 
# This interactive periodic table is designed to enhance the user's knowledge about key information such as positions, names and main properties of the 118 elements.
# 
# Tailored for young EPFL students that are taking M. Kay Severin "Chemistry of elements s and p", InteractivePT aims to get them the best grade ever ! Indeed, this periodic table not only shares information to the user such as group elements, atomic weight, electron configuration, production methods - and many more - but it is also implemented with quizzes for the users to test their knowledge and ensure an optimal memorisation.
# 
# Furthermore, this package also contains visual representation of the atomic orbitals which makes it interesting for any chemist who wishes to visualise them. An atomic orbital is used in quantum mechanics to describe the electron's charge distribution around the nucleus and therefore is necessary when apprenhending the formation of molecular bonds.
# 
# User-friendly and esthetic, we recommend you this easybly installable package that shall follow you during your whole life as a chemist !

# %% [markdown]
# BROUILLON: 
# 
# arrangement of the chemical elements, structured by their atomic number, electron configuration and recurring chemical properties.
# tabular array of the chemical elements organized by increasing atomic number
# 
# During the chemistry curriculem, a chemist will often use a periodic table
# A chemist mu
# inestimable value
# 
# - explain: PT mendeleev, + orbitals
# One of the main tools for a chemist being the Periodic Table, it is absolutely necessary ........
# During the chemistry curriculem, students are expected to memorise certain elements of the periodic table such as 
# Creativity: suited for s and p course and implemented with interactive quizzes. Also interesting for any chemist which would like to visualise atoms.
# to give you the opportunity to revise yet again Mendeleev's greatest achievement or to visualise the atom's orbitals in three dimension.

# %% [markdown]
# read me : context motivation and installation
# refs
# basic usage examples
# 
# report explain backending, what is happening after the user interact : show skill, well structured, what is new,
# read me: you are a user, no more info
# test: test the backend function, assert, logical test, numpy cipy keep the updated version with outline
# challenges: gui and python putting together, different levels of challenges , engineer, personal == going further

# %% [markdown]
# Results and Discussion
# DIVE INTO THE EXPLANATION OF DEPENDENCIES AND name FUNCTIONS 
# while still getting to the point
# 
# EXPLAIN THE Dependencies AND Functions

# %% [markdown]
# Initialise this notebook :
# Please import the following dependencies and functions needed to operate our package by running the following code. 
# 
# PyQt5 is used to develop a Graphical User Interface (GUI) application thanks to its tools provided by its library. It is the Python plug-in implementation of the cross-platform GUI toolkit Qt. It contains PyQt5.QtWidgets which are different widgets used as building blocks for the interface such as graphical components used for the display of the periodic table. Then, PyQt5.QtCore is used for core non-GUI functionnalities like time management or event loops used for the quizzes contained in our package. Complementing PyQt5.QtWidgets, PyQt5.QtGui offers graphical design management tools.
# elements_data is the file containing all the informations necessary for the periodic table.
# 

# %%
import os
import re
import numpy as np
import matplotlib.pyplot as plt
from mpl_toolkits.mplot3d import Axes3D
from scipy.special import sph_harm
from matplotlib import cm
from periodictable.elements_data import elements
import sys
import random
import unicodedata
from PyQt5.QtWidgets import (
    QMainWindow, QWidget, QVBoxLayout, QLabel, QPushButton, QGridLayout, QMessageBox,
    QHBoxLayout, QFrame, QInputDialog, QApplication, QScrollArea, QDialog, QLineEdit,
    QDialogButtonBox
)
from PyQt5.QtCore import Qt, QTimer, QEventLoop
from PyQt5.QtGui import QFont, QPixmap
from elements_data import elements, positions, colors, production_methods

# %% [markdown]
# First visualisation of PT:
# == Expected output in general sense and then per block

# %% [markdown]
# ## (DATA : elements_data.py):
# 
# First and foremost, in order to visualise our periodic table, we needed to import a lot of data which we put in elements_data.py.
# 
# We use different dictionaries that contain all the information needed.
# 
# `elements` is a dict[str,dict[str,Any]] with the letter symbol of the element as a key of the dictionnary. The items are either strings or dictionaries of strings and define the name, atomic number, mass, family (or period), state (room temperature), electron configuration and isotopes.
# 
# `positions` is a dict[str,tuple(int,int)] containing the 2D coordinates with (line, column) following the same order than Mendeleev's periodic table.
# 
# `colours` is a dict[str,str] which assigns a colour to each element contained in a group which has known similar properties. For example, the halogens group or the transition metals are family groups that are important to know for the "Chemistry of elements s and p" course. Furthermore, having a colour which corresponds to a family group of elements is a esthetic and interactive way of classifying the compounds.
# 
# Finally, `production_methods` is a dict[str,list(str)] which contains a series of reactions that are all necessary to know by heart to excel at the exam of the "Chemistry of elements s and p" class. These informations will be used as quizz material with the dictionary's key being the name of the reaction and the item being the reaction equation.

# %% [markdown]
# Brouillon:
# 
# = elements type dict[ str, dict[str, Any]]
# -name
# -atomic number
# -mass
# -family
# -state (room temperature)
# -electron configuration
# -isotopes
# 
# = positions type dict[str, tuple(int,int)]
# -coordinates (line, column)
# 
# = colours (explain: classify elements into families with similar properties) type dict[str,str]
# -family with its corresponding colour : used to clasify, interactive, esthetic
# 
# = production_methods (explain: important component in Severin's course to learn these reactions) 
# dict[str, list(str)]
# -reaction equation and name of reaction

# %% [markdown]
# ## utils.py
# The utils.py python file introduces the PeriodicTableApp which is a class using the QMainWindow which is a main window enabling us to use a framework for the construction of our application's user interface. Indeed, Qt has QMainWindow and other classes which provide a structure of layout to which you can add `QDialog`, `QLabel` and `QDockWidget`s.
# 
# This structure is then used to create the scaffold of the visualisation of the periodic table. Indeed, through the function `__init__(self)`, the main application window and UI components are initialised such as title, the size of the table, and all the variables related to the quizz such as score, question count or quizz type. All these state variables will be further explained in this report when we delve into the code which processes the functionnalities of the quizzes.
# 
# In order to explain to the user what this package is, the Qdialog class was used to implement a top-level window for brief communication with the user. This window contains a user guide with an explanation on how to interact with the periodic table, what type of information can be found for each element and the functioning of quizz games with its features and questions types. Furthermore, the QPushButton widget is used so that the user can press the "ok" button or in this case the "Got it! Let's Explore 🚀" button when she/he has finished reading the introduction.
# 
# Then the position and text display of the main window was done through the use of the multiple widgets contained in PyQt5.QtWidgets. Using QtLabel, the text visualisation was done such as the font, size and alignment of the title, the score and timer display. The quizz control button was done
# 
# 
# 
# Puts into place the main application class
# class PeriodicTableApp
# 
# A main window provides a framework for building an application’s user interface. Qt has QMainWindow and its related classes for main window management. QMainWindow has its own layout to which you can add QToolBar s, QDockWidget s, a QMenuBar , and a QStatusBar 

# %%
![image.png](attachment:image.png)
= photo of introductory window 

# %% [markdown]
# cli.py :
# 
# 
# This Python script offers a command-line interface (CLI) that allows users to interact with the periodic table data. Utilizing the argparse module, the script provides functionalities to:
# 
# Display details of a specific element by its chemical symbol.
# 
# List all available element symbols.
# 
# Search for elements belonging to a particular family.
# 
# The script imports elements and positions from a local utils module, which are presumed to contain the necessary data structures for element information and their positions in the periodic table.
# 
# 

# %% [markdown]
# Atomic orbital visualisation:
# From QM use course and a publication to explain how formula was found

# %% [markdown]
# Finally dive into the interactiveness of the quizzes with the time limits (offer that it could be changed [have fun with the code !]) + nb of questions
# + give examples of usage
# + expected output

# %% [markdown]
# Challenges and Features:
# 
# GREAT IDEA TO TEST TOOL ON A RANDOM PERSON AND TO SHOW A GRAPH ON HOW THEY IMPROVE AFTER x time

# %% [markdown]
# sources :
# https://www.britannica.com/biography/Dmitri-Mendeleev
# 
# https://www.britannica.com/science/periodic-table
# 
# https://doc.qt.io/qtforpython-5/PySide2/QtWidgets/QMainWindow.html#more


