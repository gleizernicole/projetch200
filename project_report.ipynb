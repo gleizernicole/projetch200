Welcome to InteractivePT : Enhance your knowledge on the Periodic Table

Invented by Mendeleev in 1871, the periodic table is an indispensable tool for any person who wishes to adventure itself along the arduous path of becoming a chemist. Indeed, this tabular array of the chemical elements contained in the universe is organized by increasing atomic number and has been of inestimable value in the development of chemistry.
Unsurprisingly, during the chemistry curriculum, students are expected to memorise certain elements of the periodic table which is a tedious and unforgivenly timely task.

However rest assured, with InteractivePT, you shall memorise Mendeleev's table in no time !

This interactive periodic table is designed to enhance the user's knowledge about key information such as positions, names and main properties of the 118 elements.

Tailored for young EPFL students who are taking M. Kay Severin "Chemistry of elements s and p", InteractivePT aims to get them the best grade ever ! Indeed, this periodic table not only shares information to the user such as group elements, atomic weight, electron configuration, production methods - and many more - but it is also implemented with quizzes for the users to test their knowledge and ensure an optimal memorisation.

Furthermore, this package also contains visual representation of the atomic orbitals which makes it interesting for any chemist who wishes to visualise them. An atomic orbital is used in quantum mechanics to describe the electron's charge distribution around the nucleus and therefore is necessary when apprenhending the formation of molecular bonds.

User-friendly and aesthetic, we recommend this easily installable package, which will follow you throughout your whole life as a chemist!
