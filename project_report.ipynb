
   Welcome to InteractivePT : Enhance your knowledge on the Periodic Table

   Invented by Mendeleev in 1871, the periodic table is an indispensable tool for any person who wishes to adventure itself along the arduous path of becoming a chemist. Indeed, this tabular array of the chemical elements contained in the universe is organized by increasing atomic number and has been of inestimable value in the development of chemistry.
   Unsurprisingly, during the chemistry curriculum, students are expected to memorise certain elements of the periodic table which is a tedious and unforgivenly timely task.

   However rest assured, with InteractivePT, you shall memorise Mendeleev's table in no time !

   This interactive periodic table is designed to enhance the user's knowledge about key information such as positions, names and main properties of the 118 elements.

   Tailored for young EPFL students who are taking M. Kay Severin "Chemistry of elements s and p", InteractivePT aims to get them the best grade ever ! Indeed, this periodic table not only shares information to the user such as group elements, atomic weight, electron configuration, production methods - and many more - but it is also implemented with quizzes for the users to test their knowledge and ensure an optimal memorisation.

   Furthermore, this package also contains visual representation of the atomic orbitals which makes it interesting for any chemist who wishes to visualise them. An atomic orbital is used in quantum mechanics to describe the electron's charge distribution around the nucleus and therefore is necessary when apprenhending the formation of molecular bonds.

   User-friendly and aesthetic, we recommend this easily installable package, which will follow you throughout your whole life as a chemist!

# Summary

Overall the user's experience of the periodic table will be the following :
- Open the package, run each program starting by the `elements_data.py` which contains all the valuable information about each compound
- Interact with the initial information dialogue about the application and press "Got it! Let's Explore 🚀" (which is managed by `utils.py`).
- See the main window containing the periodic table and the quizz control button (which is also managed by `utils.py`).
- Interact with the Periodic table by pressing on either the individual element buttons (which is managed by `cli.py` and `elements_data.py`) and visualising the atomic orbitals (which is managed by `generate_structure.py`) or pressing on the quizz control button and doing a quizz (which is also managed by `utils.py`).

Therefore, in this report, we decided to explicit what our code does in the order of what functions the users interact with first. Consequently, we shall first talk about `elements_data.py` which stores all the valuable information about each compound. Then, we shall discuss the initial information dialogue and the main window interface (managed by `utils.py`). Finally, we shall adress the individual element buttons (managed by `cli.py`), the visualisation of the atomic orbitals (managed by `generate_structure.py`) and the functionnalities of the quizzes (managed by `utils.py`).

## (DATA : elements_data.py):

First and foremost, in order to visualise our periodic table, we needed to import a lot of data which we put in elements_data.py.

We use different dictionaries that contain all the information needed.

`elements` is a dict[str,dict[str,Any]] with the letter symbol of the element as a key of the dictionnary. The items are either strings or dictionaries of strings and define the name, atomic number, mass, family (or period), state (room temperature), electron configuration and isotopes.

`positions` is a dict[str,tuple(int,int)] containing the 2D coordinates with (line, column) following the same order than Mendeleev's periodic table.

`colours` is a dict[str,str] which assigns a colour to each element contained in a group which has known similar properties. For example, the halogens group or the transition metals are family groups that are important to know for the "Chemistry of elements s and p" course. Furthermore, having a colour which corresponds to a family group of elements is a esthetic and interactive way of classifying the compounds.

Finally, `production_methods` is a dict[str,list(str)] which contains a series of reactions that are all necessary to know by heart to excel at the exam of the "Chemistry of elements s and p" class. These informations will be used as quizz material with the dictionary's key being the name of the reaction and the item being the reaction equation.

## utils.py
### Now that the information about each compound has been imported, we need to visualise the introductory top-level window and the main window containing the periodic table. This is done through `utils.py`.

INTRO SENTENCE WITH MAIN FUNCTIONNNALITIES

The `utils.py` python file introduces the PeriodicTableApp which is a `QMainWindow` class enabling us to use a framework for the construction of our application's user interface. Indeed, `Qt` has `QMainWindow` and other classes which provide a structure of layout to which you can add `QDialog`, `QLabel` and `QDockWidget`s. This structure is then used to create the scaffold of the visualisation of the periodic table.

To visualise the brief introductory top-level window and to explain to the user what this package is, the `QDialog` class was used. This window contains a user guide with an explanation on how to interact with the periodic table, what type of information can be found for each element and the functioning of quizz games with its features and questions types. Furthermore, the `QPushButton` widget is used so that the user can press the "ok" button or in this case the "Got it! Let's Explore 🚀" button when she/he has finished reading the introduction.

Through the function `__init__(self)`, the main application window and UI components are initialised such as title, the size of the table, and all the variables related to the quizz such as score, question count or quizz type. All these state variables will be further explained in this report as we delve into the code which processes the functionnalities of the quizzes.

Then the position and text display of the main window were done through the use of the multiple widgets contained in `PyQt5.QtWidgets`. Using `QtLabel`, the text visualisation was done such as the font, size and alignment of the title, the score and timer display. The quizz control button was done using the widget `QPushButton` which when pressed will start the quizz. The timer was initialised using `QTimer` and the scrollable periodic grid was implemented using the `QScrollArea` class. Moreover, each element of a same family is represented with the same colour with the legend at the bottom of the main window being displayed using `QHBoxLayout`.

In our package, we wanted to display the periodic table on the main window with each element being an individual element button. When clicking on this button, all the information concerning the element could be found on a pop-up window. This was done through the function `create_element_button` which calls another `show_element_info` displaying in a `QDialog` the information about each element in `elements_data.py` in the decided colour and font.

Furthermore the atomic orbitals are visualised on this window.

The atomic orbitals are generated by the `create_scientific_orbital_image` in the `generate_structure.py` python file. Using our knowledge from "Quantum Chemistry" course, we decided to display the atomic orbitals of each atom which are functions describing the positions of the electrons. Different orbitals exist such as the s orbital, p orbital, d orbital, and f orbital which refer to orbitals with angular momentum quantum number ℓ = 0, 1, 2, and 3 respectively. As they all have different shapes and should be represented in 3D, we decided to use ``numpy``which is a python packaged used for fast mathematical operations over arrays in order to calculate the structure of the orbitals. The structure were then saved using `matplotlib.pyplot` as a Portable Network Graphic (PNG), which is useful as it can handle transparent backgrounds, and then were transfered into a generated output directory, unique to each element. This PNG is then called by `show_element_info` through its unique directory.

THE QUIZZ PART
Finally dive into the interactiveness of the quizzes with the time limits (offer that it could be changed [have fun with the code !]) + nb of questions
+ give examples of usage
+ expected output

sources :
https://www.britannica.com/biography/Dmitri-Mendeleev

https://www.britannica.com/science/periodic-table

https://doc.qt.io/qtforpython-5/PySide2/QtWidgets/QMainWindow.html#more
