## 5) Challenges faced : 👷‍♀️👷‍♂️🤨

- As we started from scratch, we had to come up with the basis without prior help. We also had to choose which GUI toolkit to use and we decided on PyQt5 as it was for us the easiest to grasp in terms of functionnalities and we found a lot of literature that explained to us throughly how to use it. (One being : https://doc.qt.io/qt.html#qtforpython)
- A new functionnality that we put into place was that each element was an individual button and we had to make quite a bit of research to find the PyQt5 widgets and classes that could do that.
- We had a hard time with spotting the functionnality errors in our application as there were many of them. For example, for the quiss timeout, as soon as the time for one question ran out, it would start the same question again. We managed to fix this issue quite quickly after finding it.
