{
 "cells": [
  {
   "cell_type": "markdown",
   "id": "e5b86f49",
   "metadata": {},
   "source": [
    "Welcome to InteractivePT : Enhance your knowledge on the Periodic Table"
   ]
  },
  {
   "cell_type": "markdown",
   "id": "cfcae468",
   "metadata": {},
   "source": [
    "Invented by Mendeleev in 1871, the periodic table is an indispensable tool for any person who wishes to adventure itself along the arduous path of becoming a chemist. Indeed, this tabular array of the chemical elements contained in the universe is organized by increasing atomic number and has been of inestimable value in the development of chemistry.\n",
    "Unsurprisingly, during the chemistry curriculem, students are expected to memorise certain elements of the periodic table which is a tedious and unforgivenly timely task.\n",
    "\n",
    "However rest assured, with InteractivePT, you shall memorise Mendeleev's table in no time !\n",
    "\n",
    "This interactive periodic table is designed to enhance the user's knowledge about key information such as positions, names and main properties of the 118 elements.\n",
    "\n",
    "Tailored for young EPFL students that are taking M. Kay Severin \"Chemistry of elements s and p\", InteractivePT aims to get them the best grade ever ! Indeed, this periodic table not only shares information to the user such as group elements, atomic weight, electron configuration, production methods - and many more - but it is also implemented with quizzes for the users to test their knowledge and ensure an optimal memorisation.\n",
    "\n",
    "Furthermore, this package also contains visual representation of the atomic orbitals which makes it interesting for any chemist who wishes to visualise them. An atomic orbital is used in quantum mechanics to describe the electron's charge distribution around the nucleus and therefore is necessary when apprenhending the formation of molecular bonds.\n",
    "\n",
    "User-friendly and esthetic, we recommend you this easybly installable package that shall follow you during your whole life as a chemist !"
   ]
  },
  {
   "cell_type": "markdown",
   "id": "77fa8a31",
   "metadata": {},
   "source": [
    "BROUILLON: \n",
    "\n",
    "arrangement of the chemical elements, structured by their atomic number, electron configuration and recurring chemical properties.\n",
    "tabular array of the chemical elements organized by increasing atomic number\n",
    "\n",
    "During the chemistry curriculem, a chemist will often use a periodic table\n",
    "A chemist mu\n",
    "inestimable value\n",
    "\n",
    "- explain: PT mendeleev, + orbitals\n",
    "One of the main tools for a chemist being the Periodic Table, it is absolutely necessary ........\n",
    "During the chemistry curriculem, students are expected to memorise certain elements of the periodic table such as \n",
    "Creativity: suited for s and p course and implemented with interactive quizzes. Also interesting for any chemist which would like to visualise atoms.\n",
    "to give you the opportunity to revise yet again Mendeleev's greatest achievement or to visualise the atom's orbitals in three dimension."
   ]
  },
  {
   "cell_type": "markdown",
   "id": "7a612fe1",
   "metadata": {},
   "source": [
    "read me : context motivation and installation\n",
    "refs\n",
    "basic usage examples\n",
    "\n",
    "report explain backending, what is happening after the user interact : show skill, well structured, what is new,\n",
    "read me: you are a user, no more info\n",
    "test: test the backend function, assert, logical test, numpy cipy keep the updated version with outline\n",
    "challenges: gui and python putting together, different levels of challenges , engineer, personal == going further"
   ]
  },
  {
   "cell_type": "markdown",
   "id": "2c8995d9",
   "metadata": {},
   "source": [
    "Results and Discussion\n",
    "DIVE INTO THE EXPLANATION OF DEPENDENCIES AND name FUNCTIONS \n",
    "while still getting to the point\n",
    "\n",
    "EXPLAIN THE Dependencies AND Functions"
   ]
  },
  {
   "cell_type": "markdown",
   "id": "7469ef9d",
   "metadata": {},
   "source": [
    "Initialise this notebook :\n",
    "Please import the following dependencies and functions needed to operate our package by running the following code. \n",
    "\n",
    "PyQt5 is used to develop Graphical User Interface (GUI) application thanks to its tools provided by its library. It contains PyQt5.QtWidgets which are different widgets used as building blocks for the interface such as graphical components. Then,\n",
    "\n",
    "\n",
    "elements_data is the file containing all the informations necessary for the periodic table. PyQt5.QtCore is used for core non-GUI functionnalities like time management."
   ]
  },
  {
   "cell_type": "code",
   "execution_count": null,
   "id": "f4be1024",
   "metadata": {},
   "outputs": [],
   "source": [
    "import os\n",
    "import re\n",
    "import numpy as np\n",
    "import matplotlib.pyplot as plt\n",
    "from mpl_toolkits.mplot3d import Axes3D\n",
    "from scipy.special import sph_harm\n",
    "from matplotlib import cm\n",
    "from elements_data import elements\n",
    "import sys\n",
    "import random\n",
    "import unicodedata\n",
    "from PyQt5.QtWidgets import (\n",
    "    QMainWindow, QWidget, QVBoxLayout, QLabel, QPushButton, QGridLayout, QMessageBox,\n",
    "    QHBoxLayout, QFrame, QInputDialog, QApplication, QScrollArea, QDialog, QLineEdit,\n",
    "    QDialogButtonBox\n",
    ")\n",
    "from PyQt5.QtCore import Qt, QTimer, QEventLoop\n",
    "from PyQt5.QtGui import QFont, QPixmap\n",
    "from elements_data import elements, positions, colors, production_methods"
   ]
  },
  {
   "cell_type": "markdown",
   "id": "8046482f",
   "metadata": {},
   "source": [
    "First visualisation of PT:\n",
    "== Expected output in general sense and then per block"
   ]
  },
  {
   "cell_type": "markdown",
   "id": "beb68787",
   "metadata": {},
   "source": [
    "Brouillon (DATA : elements_data.py):\n",
    "\n",
    "First and foremost, in order to visualise our periodic table, we needed to import a lot of data which we put in elements_data.py.\n",
    "We use different dictionaries that have all the information needed stored in them.\n",
    "= elements type dict[ str, dict[str, Any]]\n",
    "-name\n",
    "-atomic number\n",
    "-mass\n",
    "-family\n",
    "-state (????? where and when??)\n",
    "-electron configuration\n",
    "-isotopes\n",
    "\n",
    "= positions type dict[str, tuple(int,int)]\n",
    "-coordinates (line, column)\n",
    "\n",
    "= colours (explain: classify elements into families with similar properties) type dict[str,str]\n",
    "-family with its corresponding colour : used to clasify, interactive, esthetic\n",
    "\n",
    "= production methods (explain: important component in Severin's course to learn these reactions) \n",
    "dict[str, list(str)]\n",
    "-reaction equation and name of reaction"
   ]
  },
  {
   "cell_type": "markdown",
   "id": "186d7deb",
   "metadata": {},
   "source": [
    "cli.py :\n",
    "This Python script offers a command-line interface (CLI) that allows users to interact with periodic table data. Utilizing the argparse module, the script provides functionalities to:\n",
    "\n",
    "Display details of a specific element by its chemical symbol.\n",
    "\n",
    "List all available element symbols.\n",
    "\n",
    "Search for elements belonging to a particular family.\n",
    "\n",
    "The script imports elements and positions from a local utils module, which are presumed to contain the necessary data structures for element information and their positions in the periodic table."
   ]
  },
  {
   "cell_type": "markdown",
   "id": "4a657858",
   "metadata": {},
   "source": [
    "Atomic orbital visualisation:\n",
    "From QM use course and a publication to explain how formula was found"
   ]
  },
  {
   "cell_type": "markdown",
   "id": "31dcfc5e",
   "metadata": {},
   "source": [
    "Finally dive into the interactiveness of the quizzes with the time limits (offer that it could be changed [have fun with the code !]) + nb of questions\n",
    "+ give examples of usage\n",
    "+ expected output"
   ]
  },
  {
   "cell_type": "markdown",
   "id": "7d1ea868",
   "metadata": {},
   "source": [
    "Challenges and Features:\n",
    "\n",
    "GREAT IDEA TO TEST TOOL ON A RANDOM PERSON AND TO SHOW A GRAPH ON HOW THEY IMPROVE AFTER x time"
   ]
  },
  {
   "cell_type": "markdown",
   "id": "b27c162e",
   "metadata": {},
   "source": [
    "sources :\n",
    "https://www.britannica.com/biography/Dmitri-Mendeleev\n",
    "https://www.britannica.com/science/periodic-table"
   ]
  }
 ],
 "metadata": {
  "language_info": {
   "name": "python"
  }
 },
 "nbformat": 4,
 "nbformat_minor": 5
}
