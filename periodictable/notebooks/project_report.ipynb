{
 "cells": [
  {
   "cell_type": "markdown",
   "id": "e5b86f49",
   "metadata": {},
   "source": [
    "## Welcome to InteractivePT : Enhance your knowledge on the Periodic Table 👩‍🔬👨‍🔬🧪⚗️"
   ]
  },
  {
   "cell_type": "markdown",
   "id": "cfcae468",
   "metadata": {},
   "source": [
    "Invented by Mendeleev in 1871, the periodic table is an indispensable tool for any person who wishes to adventure itself along the arduous path of becoming a chemist. Indeed, this tabular array of the chemical elements contained in the universe is organized by increasing atomic number and has been of inestimable value in the development of chemistry.\n",
    "Unsurprisingly, during the chemistry curriculem, students are expected to memorise certain elements of the periodic table which is a tedious and unforgivenly timely task.\n",
    "\n",
    "However rest assured, with InteractivePT, you shall memorise Mendeleev's table in no time ! 🏋️‍♀️🏋️‍♂️\n",
    "\n",
    "This interactive periodic table is designed to enhance the user's knowledge about key information such as positions, names and main properties of the 118 elements.\n",
    "\n",
    "Tailored for young EPFL students that are taking M. Kay Severin \"Chemistry of elements s and p\", InteractivePT aims to get them the best grade ever ! Indeed, this periodic table not only shares information to the user such as group elements, atomic weight, electron configuration, production methods - and many more - but it is also implemented with quizzes for the users to test their knowledge and ensure an optimal memorisation.\n",
    "\n",
    "Furthermore, this package also contains visual representation of the atomic orbitals which makes it interesting for any chemist who wishes to visualise them. An atomic orbital is used in quantum mechanics to describe the electron's charge distribution around the nucleus and therefore is necessary when apprenhending the formation of molecular bonds.\n",
    "\n",
    "User-friendly and esthetic, we recommend you this easybly installable package that shall follow you during your whole life as a chemist ! 🧪🔬🔍👨‍🔬👩‍🔬🥼"
   ]
  },
  {
   "cell_type": "markdown",
   "id": "7469ef9d",
   "metadata": {},
   "source": [
    "##### Let's get started !🔥🔥🔥\n",
    "\n",
    "Initialise this notebook :\n",
    "Please import the following dependencies and functions needed to operate our package by running the following code. "
   ]
  },
  {
   "cell_type": "code",
   "execution_count": 5,
   "id": "84fe21f8",
   "metadata": {},
   "outputs": [],
   "source": [
    "import sys\n",
    "import os\n",
    "\n",
    "# Navigate to the utils.py location\n",
    "utils_path = os.path.join(os.path.dirname(os.getcwd()), 'src', 'periodictable')\n",
    "if utils_path not in sys.path:\n",
    "    sys.path.append(utils_path)\n",
    "\n",
    "# Import the class\n",
    "from utils import PeriodicTableApp"
   ]
  },
  {
   "cell_type": "code",
   "execution_count": 6,
   "id": "35d58534",
   "metadata": {},
   "outputs": [],
   "source": [
    "# IPython magic for GUI integration\n",
    "%gui qt5"
   ]
  },
  {
   "cell_type": "markdown",
   "id": "aa8495f8",
   "metadata": {},
   "source": [
    "PyQt5 is used to develop a Graphical User Interface (GUI) application thanks to its tools provided by its library. It is the Python plug-in implementation of the cross-platform GUI toolkit Qt.\n",
    "It contains PyQt5.QtWidgets which are different widgets used as building blocks for the interface such as graphical components used for the display of the periodic table. Then, PyQt5.QtCore is used for core non-GUI functionnalities like time management or event loops used for the quizzes contained in our package. Complementing PyQt5.QtWidgets, PyQt5.QtGui offers graphical design management tools."
   ]
  },
  {
   "cell_type": "markdown",
   "id": "55f60d35",
   "metadata": {},
   "source": [
    "# Summary 🔍\n",
    "\n",
    "Our report's structure follows the chronology of the user's experience explained bellow :\n",
    "- Install and run the package\n",
    "- Interact with the initial information dialogue about the application and press \"Got it! Let's Explore 🚀\"\n",
    "- See the main window containing the periodic table and the quizz control button\n",
    "- Interact with the Periodic table by pressing on either the individual element buttons\n",
    "- Visualise the atomic orbitals\n",
    "- Press on the quizz control button and do a quizz\n",
    "\n",
    "Therefore, we shall first talk about `elements_data.py` which stores all the valuable information about each compound. Then, we shall discuss the initial information dialogue; the main window interface and individual element buttons (managed by `utils.py`). Finally, we shall adress the visualisation of the atomic orbitals (managed by `generate_structure.py`) and the functionnalities of the quizzes (managed by `utils.py`)."
   ]
  },
  {
   "cell_type": "markdown",
   "id": "5020fbbe",
   "metadata": {},
   "source": [
    "## 1) Importation of data through elements_data.py: 📊👩‍💻👨‍💻💾\n",
    "\n",
    "First and foremost, in order to visualise our periodic table, we needed to import a lot of data which we put in elements_data.py.\n",
    "\n",
    "We use different dictionaries that contain all the information needed.\n",
    "\n",
    "`elements` is a dict[str,dict[str,Any]] with the letter symbol of the element as a key of the dictionnary. The items are either strings or dictionaries of strings and define the name, atomic number, mass, family (or period), state (room temperature), electron configuration and isotopes.\n",
    "\n",
    "`positions` is a dict[str,tuple(int,int)] containing the 2D coordinates with (line, column) following the same order than Mendeleev's periodic table.\n",
    "\n",
    "`colours` is a dict[str,str] which assigns a colour to each element contained in a group which has known similar properties. For example, the halogens group or the transition metals are family groups that are important to know for the \"Chemistry of elements s and p\" course. Furthermore, having a colour which corresponds to a family group of elements is a esthetic and interactive way of classifying the compounds.\n",
    "\n",
    "Finally, `production_methods` is a dict[str,list(str)] which contains a series of reactions that are all necessary to know by heart to excel at the exam of the \"Chemistry of elements s and p\" class. These informations will be used as quizz material with the dictionary's key being the name of the reaction and the item being the reaction equation."
   ]
  },
  {
   "cell_type": "markdown",
   "id": "10b0503a",
   "metadata": {},
   "source": [
    "## 2) Visualisation of the application using PyQt5 (utils.py) : 🔍😎👓🔎\n",
    "\n",
    "Now that the information about each compound has been imported, we need to visualise the introductory top-level window and the main window containing the periodic table. This is done through `utils.py`.\n",
    "\n",
    "The `utils.py` python file introduces the PeriodicTableApp which is a `QMainWindow` class enabling us to use a framework for the construction of our application's user interface. Indeed, `Qt` has `QMainWindow` and other classes which provide a structure of layout to which you can add `QDialog`, `QLabel` and `QDockWidget`s. This structure is then used to create the scaffold of the visualisation of the periodic table."
   ]
  },
  {
   "cell_type": "markdown",
   "id": "10e6dbef",
   "metadata": {},
   "source": [
    "##### a) Top-level introductory window : 🪟🖨️🪟\n",
    "\n",
    "To visualise the brief introductory top-level window and to explain to the user what this package is, the `QDialog` class was used. This window contains a user guide with an explanation on how to interact with the periodic table, what type of information can be found for each element and the functioning of quizz games with its features and questions types. Furthermore, the `QPushButton` widget is used so that the user can press the \"ok\" button or in this case the \"Got it! Let's Explore 🚀\" button when she/he has finished reading the introduction."
   ]
  },
  {
   "cell_type": "markdown",
   "id": "21c256a7",
   "metadata": {},
   "source": [
    "Run the following code to visualise the top level introductory window ! 😎👓"
   ]
  },
  {
   "cell_type": "markdown",
   "id": "b9d0d779",
   "metadata": {},
   "source": [
    "### ⚠⚠⚠ Notice : \n",
    "- Sometimes the top-level window opens but behind the VSCode window. Therefore you should minimise your VSCode window to see the introductory window"
   ]
  },
  {
   "cell_type": "code",
   "execution_count": null,
   "id": "239d7457",
   "metadata": {},
   "outputs": [],
   "source": [
    "# code that shows visualisation of top-level introductory window\n",
    "app = PeriodicTableApp()\n",
    "app.show_initial_info()\n",
    "# Note : To stop the code running, you must push \"Got it! Let's Explore 🚀\""
   ]
  },
  {
   "cell_type": "markdown",
   "id": "f4f1a706",
   "metadata": {},
   "source": [
    "##### Expected outputs : 🎉🆚⁉️\n",
    "\n",
    "You should see a top-level introductory window which ressembles the one found in the README.md with the title \"Periodic Table Introduction\"."
   ]
  },
  {
   "cell_type": "markdown",
   "id": "521a33fc",
   "metadata": {},
   "source": [
    "##### b) Initialisation of variables related to InteractivePT's functionnalities : 📩📩\n",
    "\n",
    "Through the function `__init__(self)`, the main application window and UI components are initialised such as title, the size of the table, and all the variables related to the quizz such as score, question count or quizz type. All these state variables will be further explained in this report as we delve into the code which processes the functionnalities of the quizzes."
   ]
  },
  {
   "cell_type": "markdown",
   "id": "b9507aa8",
   "metadata": {},
   "source": [
    "##### c) Main window structure : 🚪🪟🥇\n",
    "\n",
    "Then the position and text display of the main window were done through the use of the multiple widgets contained in `PyQt5.QtWidgets`. Using `QtLabel`, the text visualisation was done such as the font, size and alignment of the title, the score and timer were displayed. The quizz control button was done using the widget `QPushButton` which when pressed will start the quizz. The timer was initialised using `QTimer` and the scrollable periodic grid was implemented using the `QScrollArea` class. Moreover, each element of a same family is represented with the same colour with the legend at the bottom of the main window being displayed using `QHBoxLayout`."
   ]
  },
  {
   "cell_type": "code",
   "execution_count": null,
   "id": "ad6a2d62",
   "metadata": {},
   "outputs": [],
   "source": [
    "# code that shows visualisation of main window structure\n",
    "app.show()"
   ]
  },
  {
   "cell_type": "markdown",
   "id": "d307befb",
   "metadata": {},
   "source": [
    "##### Expected outputs : 🎉🆚⁉️\n",
    "\n",
    "You should see the main window which ressembles the one found in the README.md with the title \"Main periodic table view\"."
   ]
  },
  {
   "cell_type": "markdown",
   "id": "66a0e479",
   "metadata": {},
   "source": [
    "##### d) Individual element buttons : 🔴🟠🟡🟢🔵\n",
    "\n",
    "In our package, we wanted to display the periodic table on the main window with each element being an individual element button. When clicking on this button, all the information concerning the element could be found on a pop-up window. This was done through the function `create_element_button` which calls another `show_element_info` displaying in a `QDialog` the information about each element in `elements_data.py` in the decided colour and font."
   ]
  },
  {
   "cell_type": "code",
   "execution_count": null,
   "id": "534a8f37",
   "metadata": {},
   "outputs": [
    {
     "name": "stdout",
     "output_type": "stream",
     "text": [
      "Adding production info for C\n",
      "Production methods: {'from_carbonates': 'Carbon can be produced from the thermal decomposition of carbonates or through reduction reactions', 'carbon_monoxide_formation': 'HCOOH → H₂O + CO (with H₂SO₄)', 'boudouard_equilibrium': 'CO₂ + C(s) ⇌ 2 CO', 'reaction_of_carbonates_with_acid': 'CaCO₃ + 2 HCl → CaCl₂ + H₂O + CO₂'}\n",
      "Production content: <b>From carbonates:</b> Carbon can be produced from the thermal decomposition of carbonates or through reduction reactions<br><b>Carbon monoxide formation:</b> HCOOH → H₂O + CO (with H₂SO₄)<br><b>Boudouard equilibrium:</b> CO₂ + C(s) ⇌ 2 CO<br><b>Reaction of carbonates with acid:</b> CaCO₃ + 2 HCl → CaCl₂ + H₂O + CO₂\n"
     ]
    }
   ],
   "source": [
    "# Visualisation of the pop-up window with the information concerning Hydrogen\n",
    "app.show_element_info(\"C\")\n",
    "# Note : To stop the code running, you must close the dialog window"
   ]
  },
  {
   "cell_type": "markdown",
   "id": "c7a7e6c5",
   "metadata": {},
   "source": [
    "##### Expected outputs : 🎉🆚⁉️\n",
    "\n",
    "You should see a Qdialog window with the atomic orbitals and information about the Carbon atom which ressembles the one found in the README.md with the title \"Element detail view\"."
   ]
  },
  {
   "cell_type": "markdown",
   "id": "83f6a5ec",
   "metadata": {},
   "source": [
    "## 3) Visualisation of the atomic orbitals using numpy and matplotlib.pyplot (generate_structure.py) : ⚛️👁️‍🗨️\n",
    "\n",
    "Furthermore the atomic orbitals are visualised on this window.\n",
    "\n",
    "The atomic orbitals are generated by the `create_scientific_orbital_image` in the `generate_structure.py` python file. Using our knowledge from \"Quantum Chemistry\" course, we decided to display the atomic orbitals of each atom which are functions describing the positions of the electrons. Different orbitals exist such as the s orbital, p orbital, d orbital, and f orbital which refer to orbitals with angular momentum quantum number ℓ = 0, 1, 2, and 3 respectively. As they all have different shapes and should be represented in 3D, we decided to use ``numpy``which is a python packaged used for fast mathematical operations over arrays in order to calculate the structure of the orbitals. The structure were then saved using `matplotlib.pyplot` as a Portable Network Graphic (PNG), which is useful as it can handle transparent backgrounds, and then were transfered into a generated output directory, unique to each element. This PNG is then called by `show_element_info` through its unique directory."
   ]
  },
  {
   "cell_type": "code",
   "execution_count": null,
   "id": "c884ff7c",
   "metadata": {},
   "outputs": [
    {
     "name": "stdout",
     "output_type": "stream",
     "text": [
      "Adding production info for C\n",
      "Production methods: {'from_carbonates': 'Carbon can be produced from the thermal decomposition of carbonates or through reduction reactions', 'carbon_monoxide_formation': 'HCOOH → H₂O + CO (with H₂SO₄)', 'boudouard_equilibrium': 'CO₂ + C(s) ⇌ 2 CO', 'reaction_of_carbonates_with_acid': 'CaCO₃ + 2 HCl → CaCl₂ + H₂O + CO₂'}\n",
      "Production content: <b>From carbonates:</b> Carbon can be produced from the thermal decomposition of carbonates or through reduction reactions<br><b>Carbon monoxide formation:</b> HCOOH → H₂O + CO (with H₂SO₄)<br><b>Boudouard equilibrium:</b> CO₂ + C(s) ⇌ 2 CO<br><b>Reaction of carbonates with acid:</b> CaCO₃ + 2 HCl → CaCl₂ + H₂O + CO₂\n"
     ]
    }
   ],
   "source": [
    "# Visualisation of atomic orbitals of the carbon atom\n",
    "app.show_element_info(\"C\")\n",
    "# Note : To stop the code running, you must close the dialog window"
   ]
  },
  {
   "cell_type": "markdown",
   "id": "66f11d2e",
   "metadata": {},
   "source": [
    "##### Expected outputs : 🎉🆚⁉️\n",
    "\n",
    "Same output as previously with the Individual element buttons."
   ]
  },
  {
   "cell_type": "markdown",
   "id": "b5a6f98e",
   "metadata": {},
   "source": [
    "## 4) Interactive quizzes using PyQt5 (utils.py) : 🕒🏃‍♀️🏃🤷\n",
    "\n",
    "Finally, one of the most important component of our periodic table is the possibility of interacting with the application through quizzes with time limits. After initialising the timer with the function `update_timer`, the `QInputDialog` is used in order to generate a top-level window like what could be done with `QDialog` but here it asks the user to input which type of quizz she/he wants, between multiple choice or free response.\n",
    "\n",
    "The main function `ask_question` generates questions of different types and chooses one randomly to ask the user. The different types are about atomic symbols, atomic weight, electron configuration or about the production methods. Then, it generates a `QDialog` where the user inputs her/his answer. \n",
    "\n",
    "For \"Multiple Choice\" questions, the input of the answer is done with the widget `QPushButton`. Then, if the user decided to do \"Free Response\" questions, a `QLineEdit`, which is a widget that allows the user to enter and edit a single line of plain text, is shown and the user can manually type her/his answer.\n",
    "\n",
    "`check_answer` verifies if the answer given is right : if it is, it will send a \"Correct answer! ✔️\\nAnswer was: {self.current_answer}\" with self_current_answer being the variable containing the correct answer. If the answer is wrong, it will send \"Wrong answer! ❌\\nCorrect answer: {self.current_answer}\". Both message will be diplayed using a `QDialog`."
   ]
  },
  {
   "cell_type": "code",
   "execution_count": null,
   "id": "da2f4862",
   "metadata": {},
   "outputs": [],
   "source": [
    "# Visualisation of a QInputDialog quiz window\n",
    "app.start_quiz()\n",
    "# Note : To stop the code running, you must close the dialog window or press the button \"Exit Quiz\""
   ]
  },
  {
   "cell_type": "markdown",
   "id": "83983728",
   "metadata": {},
   "source": [
    "##### Expected outputs : 🎉🆚⁉️\n",
    "\n",
    "A QInputDialog window which asks you what type of quiz you want. Then asks you 10 questions, corrects your answers and gives you your final score."
   ]
  },
  {
   "cell_type": "markdown",
   "id": "d9c719f2",
   "metadata": {},
   "source": [
    "##### Have fun with the code ! 🍄😆🥳🎉\n",
    "\n",
    "You can play around with the code by changing the number of questions, type of questions but also the time limits. You can also add productions methods to more elements as in this package we only put the ones necessary to learn for the \"Chemistry of s and p elements\". Moreover, for the same reasons, any element that is a transition metal, a lanthanide or an actinide is not taken into account in the quiz - this could be changed in the `ask_question` function."
   ]
  },
  {
   "cell_type": "markdown",
   "id": "1f759f6c",
   "metadata": {},
   "source": [
    "## 5) Challenges faced : 👷‍♀️👷‍♂️🤨\n",
    "\n",
    "- As we started from scratch, we had to come up with the basis without prior help. We also had to choose which GUI toolkit to use and we decided on PyQt5 as it was for us the easiest to grasp in terms of functionnalities and we found a lot of literature that explained to us thoroughly how to use it. (One being : https://doc.qt.io/qt.html#qtforpython)\n",
    "- A new functionnality that we put into place was that each element was an individual button and we had to make quite a bit of research to find the PyQt5 widgets and classes that could do that.\n",
    "- We had a hard time with spotting the functionnality errors in our application as there were many of them. For example, for the quiss timeout, as soon as the time for one question ran out, it would start the same question again. We managed to fix this issue quite quickly after finding it.\n",
    "- The jupyter notebook did not handle well Qt which meant it took a lot of time to get the code running successfully in the notebook\n",
    "- Finally, it took a lot of time to figure out how we could visualise the atomic units. Indeed, we first had to find the correct mathematical functions to plot them but also had to ind the appropriate modules and finally, understand how to save them and where and how to store them."
   ]
  },
  {
   "cell_type": "markdown",
   "id": "a4a49fd9",
   "metadata": {},
   "source": [
    "## 6) Possible improvements : 🏗👷👷‍♂️👷‍♀️\n",
    "\n",
    "- Visualising the number of electron in each orbital\n",
    "- Having the atomic orbital in 3D so that the user can rotate the atom and observe better the shapes of the orbitals\n",
    "- Adding additional production methods for all the elements"
   ]
  }
 ],
 "metadata": {
  "kernelspec": {
   "display_name": "projet200",
   "language": "python",
   "name": "python3"
  },
  "language_info": {
   "codemirror_mode": {
    "name": "ipython",
    "version": 3
   },
   "file_extension": ".py",
   "mimetype": "text/x-python",
   "name": "python",
   "nbconvert_exporter": "python",
   "pygments_lexer": "ipython3",
   "version": "3.13.2"
  }
 },
 "nbformat": 4,
 "nbformat_minor": 5
}
